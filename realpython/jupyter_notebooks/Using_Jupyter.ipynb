{
 "cells": [
  {
   "cell_type": "code",
   "execution_count": 2,
   "id": "16cd73c8",
   "metadata": {},
   "outputs": [],
   "source": [
    "greeting = \"hello jupyter\""
   ]
  },
  {
   "cell_type": "code",
   "execution_count": 3,
   "id": "ed0f724a",
   "metadata": {},
   "outputs": [
    {
     "name": "stdout",
     "output_type": "stream",
     "text": [
      "hello jupyter\n"
     ]
    }
   ],
   "source": [
    "print(greeting)"
   ]
  },
  {
   "cell_type": "markdown",
   "id": "c5133b83",
   "metadata": {},
   "source": []
  },
  {
   "cell_type": "markdown",
   "id": "27035379",
   "metadata": {},
   "source": [
    "Markdown(Heading)\n",
    "================\n",
    "## Sub-heading\n",
    "### smaller heading"
   ]
  },
  {
   "cell_type": "markdown",
   "id": "7e135b8b",
   "metadata": {},
   "source": [
    "Paragraphs are separated by a blank line.\n",
    "\n",
    "Two spaces at the end of a line produces a line brea."
   ]
  },
  {
   "cell_type": "markdown",
   "id": "03ed5cf9",
   "metadata": {},
   "source": [
    "Text attributes _italic_, **bold**, 'monospace'.\n",
    "\n",
    "'''python\n",
    "# code block with sytax highlighting\n",
    "print('Hello Jupyter')\n",
    "'''\n",
    "\n",
    "Horizontal rule:\n",
    "\n",
    "---\n",
    "\n",
    "\n",
    "Bullet list:\n",
    "\n",
    "   * apples\n",
    "   * oranges\n",
    "   * pears\n",
    "\n",
    "Numbered list:\n",
    "\n",
    "   1. wash\n",
    "   2. rinse\n",
    "   3. repeat"
   ]
  },
  {
   "cell_type": "markdown",
   "id": "0ae31fec",
   "metadata": {},
   "source": [
    "A [Link](http://en.wikipedia.org/wiki/Markdown#Example).\n",
    "\n",
    "Image: [Background]"
   ]
  },
  {
   "cell_type": "markdown",
   "id": "b27588b0",
   "metadata": {},
   "source": [
    "> Markdown uses email-stype '>' characters for blockquoting.\n",
    "\n",
    "Inline <abbr title=\"Hypertext Markup Language\">HTML</abbr> is supported"
   ]
  },
  {
   "cell_type": "code",
   "execution_count": 4,
   "id": "20825e8d",
   "metadata": {},
   "outputs": [],
   "source": [
    "a = 1 + 2"
   ]
  },
  {
   "cell_type": "code",
   "execution_count": 5,
   "id": "f43e1c43",
   "metadata": {},
   "outputs": [
    {
     "data": {
      "text/plain": [
       "3"
      ]
     },
     "execution_count": 5,
     "metadata": {},
     "output_type": "execute_result"
    }
   ],
   "source": [
    "a"
   ]
  },
  {
   "cell_type": "code",
   "execution_count": null,
   "id": "574ee5d1",
   "metadata": {},
   "outputs": [],
   "source": []
  }
 ],
 "metadata": {
  "kernelspec": {
   "display_name": "Python 3 (ipykernel)",
   "language": "python",
   "name": "python3"
  },
  "language_info": {
   "codemirror_mode": {
    "name": "ipython",
    "version": 3
   },
   "file_extension": ".py",
   "mimetype": "text/x-python",
   "name": "python",
   "nbconvert_exporter": "python",
   "pygments_lexer": "ipython3",
   "version": "3.9.10"
  }
 },
 "nbformat": 4,
 "nbformat_minor": 5
}
